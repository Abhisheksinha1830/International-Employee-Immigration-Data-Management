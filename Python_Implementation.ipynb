{
 "cells": [
  {
   "cell_type": "markdown",
   "id": "36517f9e",
   "metadata": {},
   "source": [
    "# Python to MySQL connection"
   ]
  },
  {
   "cell_type": "code",
   "execution_count": 1,
   "id": "76d1d4df",
   "metadata": {},
   "outputs": [],
   "source": [
    "# pip install mysql-connector-python"
   ]
  },
  {
   "cell_type": "code",
   "execution_count": 2,
   "id": "1266b42e",
   "metadata": {},
   "outputs": [],
   "source": [
    "import pandas as pd"
   ]
  },
  {
   "cell_type": "code",
   "execution_count": 3,
   "id": "0b0f7752",
   "metadata": {},
   "outputs": [],
   "source": [
    "import mysql.connector\n",
    "host = 'localhost'\n",
    "user = 'root'\n",
    "password = 'Nitwarangal@1830'\n",
    "database = 'immigration'\n",
    "connection = mysql.connector.connect(\n",
    "    host=host,\n",
    "    user=user,\n",
    "    password=password,\n",
    "    database=database\n",
    ")\n",
    "cursor = connection.cursor()"
   ]
  },
  {
   "cell_type": "markdown",
   "id": "27bd1de8",
   "metadata": {},
   "source": [
    "# Data loading"
   ]
  },
  {
   "cell_type": "code",
   "execution_count": 4,
   "id": "2a95ac8a",
   "metadata": {},
   "outputs": [],
   "source": [
    "table_name = ['employee','belongs_to','Budget','contact','department',\n",
    "              'Green_Card','I9_Form','On_Boarding','Passport','Previous_works_experience',\n",
    "              'Project','Salary','Visa','Visa_Sponshership','works_in']"
   ]
  },
  {
   "cell_type": "code",
   "execution_count": 5,
   "id": "cc141790",
   "metadata": {},
   "outputs": [],
   "source": [
    "dataframes = {}\n",
    "for i in table_name:\n",
    "    query = f'SELECT * FROM {i}'\n",
    "    cursor.execute(query)\n",
    "    rows = cursor.fetchall()\n",
    "    column_names = [desc[0] for desc in cursor.description]\n",
    "    dataframes[f'df_{i}'] = pd.DataFrame(rows, columns=column_names)\n",
    "cursor.close()\n",
    "connection.close()"
   ]
  },
  {
   "cell_type": "code",
   "execution_count": 6,
   "id": "0d955338",
   "metadata": {},
   "outputs": [
    {
     "data": {
      "text/html": [
       "<div>\n",
       "<style scoped>\n",
       "    .dataframe tbody tr th:only-of-type {\n",
       "        vertical-align: middle;\n",
       "    }\n",
       "\n",
       "    .dataframe tbody tr th {\n",
       "        vertical-align: top;\n",
       "    }\n",
       "\n",
       "    .dataframe thead th {\n",
       "        text-align: right;\n",
       "    }\n",
       "</style>\n",
       "<table border=\"1\" class=\"dataframe\">\n",
       "  <thead>\n",
       "    <tr style=\"text-align: right;\">\n",
       "      <th></th>\n",
       "      <th>ID_Emp</th>\n",
       "      <th>Num_years_Exp</th>\n",
       "      <th>Prev_Job_Title</th>\n",
       "      <th>Last_Working_Date</th>\n",
       "      <th>Prev_Company_Loc</th>\n",
       "      <th>Prev_Company_Name</th>\n",
       "    </tr>\n",
       "  </thead>\n",
       "  <tbody>\n",
       "    <tr>\n",
       "      <th>0</th>\n",
       "      <td>00-0264691</td>\n",
       "      <td>6</td>\n",
       "      <td>Office Assistant II</td>\n",
       "      <td>2015-03-11</td>\n",
       "      <td>INDIA</td>\n",
       "      <td>Denesik and Sons</td>\n",
       "    </tr>\n",
       "    <tr>\n",
       "      <th>1</th>\n",
       "      <td>00-1373955</td>\n",
       "      <td>8</td>\n",
       "      <td>Registered Nurse</td>\n",
       "      <td>2016-03-21</td>\n",
       "      <td>JAPAN</td>\n",
       "      <td>Lockman, Stark and Greenholt</td>\n",
       "    </tr>\n",
       "  </tbody>\n",
       "</table>\n",
       "</div>"
      ],
      "text/plain": [
       "       ID_Emp  Num_years_Exp       Prev_Job_Title Last_Working_Date  \\\n",
       "0  00-0264691              6  Office Assistant II        2015-03-11   \n",
       "1  00-1373955              8     Registered Nurse        2016-03-21   \n",
       "\n",
       "  Prev_Company_Loc             Prev_Company_Name  \n",
       "0            INDIA              Denesik and Sons  \n",
       "1            JAPAN  Lockman, Stark and Greenholt  "
      ]
     },
     "execution_count": 6,
     "metadata": {},
     "output_type": "execute_result"
    }
   ],
   "source": [
    "dataframes['df_Previous_works_experience'].head(2)"
   ]
  },
  {
   "cell_type": "code",
   "execution_count": 17,
   "id": "5e06c54c",
   "metadata": {},
   "outputs": [
    {
     "data": {
      "text/html": [
       "<div>\n",
       "<style scoped>\n",
       "    .dataframe tbody tr th:only-of-type {\n",
       "        vertical-align: middle;\n",
       "    }\n",
       "\n",
       "    .dataframe tbody tr th {\n",
       "        vertical-align: top;\n",
       "    }\n",
       "\n",
       "    .dataframe thead th {\n",
       "        text-align: right;\n",
       "    }\n",
       "</style>\n",
       "<table border=\"1\" class=\"dataframe\">\n",
       "  <thead>\n",
       "    <tr style=\"text-align: right;\">\n",
       "      <th></th>\n",
       "      <th>Project_ID</th>\n",
       "      <th>ID_Emp</th>\n",
       "      <th>Hours</th>\n",
       "      <th>email</th>\n",
       "    </tr>\n",
       "  </thead>\n",
       "  <tbody>\n",
       "    <tr>\n",
       "      <th>0</th>\n",
       "      <td>1</td>\n",
       "      <td>12-3850982</td>\n",
       "      <td>656</td>\n",
       "      <td>tgoodbournl6@europa.eu</td>\n",
       "    </tr>\n",
       "    <tr>\n",
       "      <th>1</th>\n",
       "      <td>1</td>\n",
       "      <td>18-0400226</td>\n",
       "      <td>1997</td>\n",
       "      <td>dnapiera5@t-online.de</td>\n",
       "    </tr>\n",
       "  </tbody>\n",
       "</table>\n",
       "</div>"
      ],
      "text/plain": [
       "   Project_ID      ID_Emp  Hours                   email\n",
       "0           1  12-3850982    656  tgoodbournl6@europa.eu\n",
       "1           1  18-0400226   1997   dnapiera5@t-online.de"
      ]
     },
     "execution_count": 17,
     "metadata": {},
     "output_type": "execute_result"
    }
   ],
   "source": [
    "dataframes['df_works_in'].head(2)"
   ]
  },
  {
   "cell_type": "code",
   "execution_count": 8,
   "id": "4472acac",
   "metadata": {},
   "outputs": [
    {
     "data": {
      "text/html": [
       "<div>\n",
       "<style scoped>\n",
       "    .dataframe tbody tr th:only-of-type {\n",
       "        vertical-align: middle;\n",
       "    }\n",
       "\n",
       "    .dataframe tbody tr th {\n",
       "        vertical-align: top;\n",
       "    }\n",
       "\n",
       "    .dataframe thead th {\n",
       "        text-align: right;\n",
       "    }\n",
       "</style>\n",
       "<table border=\"1\" class=\"dataframe\">\n",
       "  <thead>\n",
       "    <tr style=\"text-align: right;\">\n",
       "      <th></th>\n",
       "      <th>Dept_ID</th>\n",
       "      <th>Project_ID</th>\n",
       "    </tr>\n",
       "  </thead>\n",
       "  <tbody>\n",
       "    <tr>\n",
       "      <th>0</th>\n",
       "      <td>101</td>\n",
       "      <td>6</td>\n",
       "    </tr>\n",
       "    <tr>\n",
       "      <th>1</th>\n",
       "      <td>101</td>\n",
       "      <td>12</td>\n",
       "    </tr>\n",
       "  </tbody>\n",
       "</table>\n",
       "</div>"
      ],
      "text/plain": [
       "   Dept_ID  Project_ID\n",
       "0      101           6\n",
       "1      101          12"
      ]
     },
     "execution_count": 8,
     "metadata": {},
     "output_type": "execute_result"
    }
   ],
   "source": [
    "dataframes['df_belongs_to'].head(2)"
   ]
  },
  {
   "cell_type": "code",
   "execution_count": 9,
   "id": "7752395d",
   "metadata": {},
   "outputs": [
    {
     "data": {
      "text/html": [
       "<div>\n",
       "<style scoped>\n",
       "    .dataframe tbody tr th:only-of-type {\n",
       "        vertical-align: middle;\n",
       "    }\n",
       "\n",
       "    .dataframe tbody tr th {\n",
       "        vertical-align: top;\n",
       "    }\n",
       "\n",
       "    .dataframe thead th {\n",
       "        text-align: right;\n",
       "    }\n",
       "</style>\n",
       "<table border=\"1\" class=\"dataframe\">\n",
       "  <thead>\n",
       "    <tr style=\"text-align: right;\">\n",
       "      <th></th>\n",
       "      <th>ID_emp</th>\n",
       "      <th>Total_Acc_amt_$</th>\n",
       "    </tr>\n",
       "  </thead>\n",
       "  <tbody>\n",
       "    <tr>\n",
       "      <th>0</th>\n",
       "      <td>00-0264691</td>\n",
       "      <td>16929.88</td>\n",
       "    </tr>\n",
       "    <tr>\n",
       "      <th>1</th>\n",
       "      <td>00-1373955</td>\n",
       "      <td>12725.15</td>\n",
       "    </tr>\n",
       "  </tbody>\n",
       "</table>\n",
       "</div>"
      ],
      "text/plain": [
       "       ID_emp Total_Acc_amt_$\n",
       "0  00-0264691        16929.88\n",
       "1  00-1373955        12725.15"
      ]
     },
     "execution_count": 9,
     "metadata": {},
     "output_type": "execute_result"
    }
   ],
   "source": [
    "dataframes['df_Budget'].head(2)"
   ]
  },
  {
   "cell_type": "code",
   "execution_count": 37,
   "id": "45259a6f",
   "metadata": {},
   "outputs": [
    {
     "data": {
      "text/html": [
       "<div>\n",
       "<style scoped>\n",
       "    .dataframe tbody tr th:only-of-type {\n",
       "        vertical-align: middle;\n",
       "    }\n",
       "\n",
       "    .dataframe tbody tr th {\n",
       "        vertical-align: top;\n",
       "    }\n",
       "\n",
       "    .dataframe thead th {\n",
       "        text-align: right;\n",
       "    }\n",
       "</style>\n",
       "<table border=\"1\" class=\"dataframe\">\n",
       "  <thead>\n",
       "    <tr style=\"text-align: right;\">\n",
       "      <th></th>\n",
       "      <th>ID_Emp</th>\n",
       "      <th>first_name</th>\n",
       "      <th>last_name</th>\n",
       "      <th>Gender</th>\n",
       "      <th>SSN</th>\n",
       "      <th>DOB</th>\n",
       "      <th>Job_Title</th>\n",
       "      <th>ID_Dept</th>\n",
       "      <th>Age</th>\n",
       "    </tr>\n",
       "  </thead>\n",
       "  <tbody>\n",
       "    <tr>\n",
       "      <th>0</th>\n",
       "      <td>00-0264691</td>\n",
       "      <td>Leontyne</td>\n",
       "      <td>Skelhorn</td>\n",
       "      <td>Female</td>\n",
       "      <td>311-70-1038</td>\n",
       "      <td>1996-04-14</td>\n",
       "      <td>Executive Secretary</td>\n",
       "      <td>103</td>\n",
       "      <td>27</td>\n",
       "    </tr>\n",
       "    <tr>\n",
       "      <th>1</th>\n",
       "      <td>00-1373955</td>\n",
       "      <td>Oliviero</td>\n",
       "      <td>Dorwood</td>\n",
       "      <td>Male</td>\n",
       "      <td>448-09-4008</td>\n",
       "      <td>1998-05-20</td>\n",
       "      <td>Sales Associate</td>\n",
       "      <td>104</td>\n",
       "      <td>25</td>\n",
       "    </tr>\n",
       "    <tr>\n",
       "      <th>2</th>\n",
       "      <td>00-1810227</td>\n",
       "      <td>Royce</td>\n",
       "      <td>Pavkovic</td>\n",
       "      <td>Male</td>\n",
       "      <td>329-28-4093</td>\n",
       "      <td>1998-05-04</td>\n",
       "      <td>Clinical Specialist</td>\n",
       "      <td>103</td>\n",
       "      <td>25</td>\n",
       "    </tr>\n",
       "    <tr>\n",
       "      <th>3</th>\n",
       "      <td>00-1818952</td>\n",
       "      <td>Aylmar</td>\n",
       "      <td>Widocks</td>\n",
       "      <td>Male</td>\n",
       "      <td>547-83-5044</td>\n",
       "      <td>1979-11-26</td>\n",
       "      <td>Research Associate</td>\n",
       "      <td>103</td>\n",
       "      <td>43</td>\n",
       "    </tr>\n",
       "    <tr>\n",
       "      <th>4</th>\n",
       "      <td>00-3155074</td>\n",
       "      <td>Gibb</td>\n",
       "      <td>Welfair</td>\n",
       "      <td>Male</td>\n",
       "      <td>305-38-3682</td>\n",
       "      <td>1991-08-03</td>\n",
       "      <td>Project Manager</td>\n",
       "      <td>107</td>\n",
       "      <td>32</td>\n",
       "    </tr>\n",
       "  </tbody>\n",
       "</table>\n",
       "</div>"
      ],
      "text/plain": [
       "       ID_Emp first_name last_name  Gender          SSN         DOB  \\\n",
       "0  00-0264691   Leontyne  Skelhorn  Female  311-70-1038  1996-04-14   \n",
       "1  00-1373955   Oliviero   Dorwood    Male  448-09-4008  1998-05-20   \n",
       "2  00-1810227      Royce  Pavkovic    Male  329-28-4093  1998-05-04   \n",
       "3  00-1818952     Aylmar   Widocks    Male  547-83-5044  1979-11-26   \n",
       "4  00-3155074       Gibb   Welfair    Male  305-38-3682  1991-08-03   \n",
       "\n",
       "             Job_Title  ID_Dept  Age  \n",
       "0  Executive Secretary      103   27  \n",
       "1      Sales Associate      104   25  \n",
       "2  Clinical Specialist      103   25  \n",
       "3   Research Associate      103   43  \n",
       "4      Project Manager      107   32  "
      ]
     },
     "execution_count": 37,
     "metadata": {},
     "output_type": "execute_result"
    }
   ],
   "source": [
    "dataframes['df_employee'].head()"
   ]
  },
  {
   "cell_type": "markdown",
   "id": "41da8eb1",
   "metadata": {},
   "source": [
    "# Data summarization"
   ]
  },
  {
   "cell_type": "code",
   "execution_count": 19,
   "id": "67edab35",
   "metadata": {},
   "outputs": [
    {
     "data": {
      "text/html": [
       "<div>\n",
       "<style scoped>\n",
       "    .dataframe tbody tr th:only-of-type {\n",
       "        vertical-align: middle;\n",
       "    }\n",
       "\n",
       "    .dataframe tbody tr th {\n",
       "        vertical-align: top;\n",
       "    }\n",
       "\n",
       "    .dataframe thead th {\n",
       "        text-align: right;\n",
       "    }\n",
       "</style>\n",
       "<table border=\"1\" class=\"dataframe\">\n",
       "  <thead>\n",
       "    <tr style=\"text-align: right;\">\n",
       "      <th></th>\n",
       "      <th>Num_years_Exp</th>\n",
       "    </tr>\n",
       "  </thead>\n",
       "  <tbody>\n",
       "    <tr>\n",
       "      <th>count</th>\n",
       "      <td>558.000000</td>\n",
       "    </tr>\n",
       "    <tr>\n",
       "      <th>mean</th>\n",
       "      <td>5.448029</td>\n",
       "    </tr>\n",
       "    <tr>\n",
       "      <th>std</th>\n",
       "      <td>2.902359</td>\n",
       "    </tr>\n",
       "    <tr>\n",
       "      <th>min</th>\n",
       "      <td>1.000000</td>\n",
       "    </tr>\n",
       "    <tr>\n",
       "      <th>25%</th>\n",
       "      <td>3.000000</td>\n",
       "    </tr>\n",
       "    <tr>\n",
       "      <th>50%</th>\n",
       "      <td>5.000000</td>\n",
       "    </tr>\n",
       "    <tr>\n",
       "      <th>75%</th>\n",
       "      <td>8.000000</td>\n",
       "    </tr>\n",
       "    <tr>\n",
       "      <th>max</th>\n",
       "      <td>10.000000</td>\n",
       "    </tr>\n",
       "  </tbody>\n",
       "</table>\n",
       "</div>"
      ],
      "text/plain": [
       "       Num_years_Exp\n",
       "count     558.000000\n",
       "mean        5.448029\n",
       "std         2.902359\n",
       "min         1.000000\n",
       "25%         3.000000\n",
       "50%         5.000000\n",
       "75%         8.000000\n",
       "max        10.000000"
      ]
     },
     "execution_count": 19,
     "metadata": {},
     "output_type": "execute_result"
    }
   ],
   "source": [
    "dataframes['df_Previous_works_experience'].describe()"
   ]
  },
  {
   "cell_type": "code",
   "execution_count": 14,
   "id": "c61554cd",
   "metadata": {},
   "outputs": [
    {
     "data": {
      "text/html": [
       "<div>\n",
       "<style scoped>\n",
       "    .dataframe tbody tr th:only-of-type {\n",
       "        vertical-align: middle;\n",
       "    }\n",
       "\n",
       "    .dataframe tbody tr th {\n",
       "        vertical-align: top;\n",
       "    }\n",
       "\n",
       "    .dataframe thead th {\n",
       "        text-align: right;\n",
       "    }\n",
       "</style>\n",
       "<table border=\"1\" class=\"dataframe\">\n",
       "  <thead>\n",
       "    <tr style=\"text-align: right;\">\n",
       "      <th></th>\n",
       "      <th>ID_Dept</th>\n",
       "      <th>Age</th>\n",
       "    </tr>\n",
       "  </thead>\n",
       "  <tbody>\n",
       "    <tr>\n",
       "      <th>count</th>\n",
       "      <td>970.000000</td>\n",
       "      <td>970.000000</td>\n",
       "    </tr>\n",
       "    <tr>\n",
       "      <th>mean</th>\n",
       "      <td>104.100000</td>\n",
       "      <td>37.118557</td>\n",
       "    </tr>\n",
       "    <tr>\n",
       "      <th>std</th>\n",
       "      <td>1.991027</td>\n",
       "      <td>9.351378</td>\n",
       "    </tr>\n",
       "    <tr>\n",
       "      <th>min</th>\n",
       "      <td>101.000000</td>\n",
       "      <td>21.000000</td>\n",
       "    </tr>\n",
       "    <tr>\n",
       "      <th>25%</th>\n",
       "      <td>102.000000</td>\n",
       "      <td>29.000000</td>\n",
       "    </tr>\n",
       "    <tr>\n",
       "      <th>50%</th>\n",
       "      <td>104.000000</td>\n",
       "      <td>37.000000</td>\n",
       "    </tr>\n",
       "    <tr>\n",
       "      <th>75%</th>\n",
       "      <td>106.000000</td>\n",
       "      <td>45.000000</td>\n",
       "    </tr>\n",
       "    <tr>\n",
       "      <th>max</th>\n",
       "      <td>107.000000</td>\n",
       "      <td>53.000000</td>\n",
       "    </tr>\n",
       "  </tbody>\n",
       "</table>\n",
       "</div>"
      ],
      "text/plain": [
       "          ID_Dept         Age\n",
       "count  970.000000  970.000000\n",
       "mean   104.100000   37.118557\n",
       "std      1.991027    9.351378\n",
       "min    101.000000   21.000000\n",
       "25%    102.000000   29.000000\n",
       "50%    104.000000   37.000000\n",
       "75%    106.000000   45.000000\n",
       "max    107.000000   53.000000"
      ]
     },
     "execution_count": 14,
     "metadata": {},
     "output_type": "execute_result"
    }
   ],
   "source": [
    "dataframes['df_employee'].describe()"
   ]
  },
  {
   "cell_type": "code",
   "execution_count": 15,
   "id": "1af9c080",
   "metadata": {},
   "outputs": [
    {
     "data": {
      "text/html": [
       "<div>\n",
       "<style scoped>\n",
       "    .dataframe tbody tr th:only-of-type {\n",
       "        vertical-align: middle;\n",
       "    }\n",
       "\n",
       "    .dataframe tbody tr th {\n",
       "        vertical-align: top;\n",
       "    }\n",
       "\n",
       "    .dataframe thead th {\n",
       "        text-align: right;\n",
       "    }\n",
       "</style>\n",
       "<table border=\"1\" class=\"dataframe\">\n",
       "  <thead>\n",
       "    <tr style=\"text-align: right;\">\n",
       "      <th></th>\n",
       "      <th>ID_emp</th>\n",
       "      <th>Legal_Fee</th>\n",
       "      <th>Form_Fill_Fee</th>\n",
       "    </tr>\n",
       "  </thead>\n",
       "  <tbody>\n",
       "    <tr>\n",
       "      <th>count</th>\n",
       "      <td>55</td>\n",
       "      <td>55</td>\n",
       "      <td>55</td>\n",
       "    </tr>\n",
       "    <tr>\n",
       "      <th>unique</th>\n",
       "      <td>55</td>\n",
       "      <td>55</td>\n",
       "      <td>54</td>\n",
       "    </tr>\n",
       "    <tr>\n",
       "      <th>top</th>\n",
       "      <td>01-0787846</td>\n",
       "      <td>5396.14</td>\n",
       "      <td>2586.97</td>\n",
       "    </tr>\n",
       "    <tr>\n",
       "      <th>freq</th>\n",
       "      <td>1</td>\n",
       "      <td>1</td>\n",
       "      <td>2</td>\n",
       "    </tr>\n",
       "  </tbody>\n",
       "</table>\n",
       "</div>"
      ],
      "text/plain": [
       "            ID_emp Legal_Fee Form_Fill_Fee\n",
       "count           55        55            55\n",
       "unique          55        55            54\n",
       "top     01-0787846   5396.14       2586.97\n",
       "freq             1         1             2"
      ]
     },
     "execution_count": 15,
     "metadata": {},
     "output_type": "execute_result"
    }
   ],
   "source": [
    "dataframes['df_Visa_Sponshership'].describe()"
   ]
  },
  {
   "cell_type": "code",
   "execution_count": 16,
   "id": "4a438445",
   "metadata": {},
   "outputs": [
    {
     "data": {
      "text/html": [
       "<div>\n",
       "<style scoped>\n",
       "    .dataframe tbody tr th:only-of-type {\n",
       "        vertical-align: middle;\n",
       "    }\n",
       "\n",
       "    .dataframe tbody tr th {\n",
       "        vertical-align: top;\n",
       "    }\n",
       "\n",
       "    .dataframe thead th {\n",
       "        text-align: right;\n",
       "    }\n",
       "</style>\n",
       "<table border=\"1\" class=\"dataframe\">\n",
       "  <thead>\n",
       "    <tr style=\"text-align: right;\">\n",
       "      <th></th>\n",
       "      <th>GreenCard_ID</th>\n",
       "      <th>GreenCard_status</th>\n",
       "      <th>GreenCard_exp_date</th>\n",
       "      <th>GreenCard_issue_date</th>\n",
       "      <th>ID_emp</th>\n",
       "    </tr>\n",
       "  </thead>\n",
       "  <tbody>\n",
       "    <tr>\n",
       "      <th>count</th>\n",
       "      <td>289</td>\n",
       "      <td>289</td>\n",
       "      <td>289</td>\n",
       "      <td>289</td>\n",
       "      <td>289</td>\n",
       "    </tr>\n",
       "    <tr>\n",
       "      <th>unique</th>\n",
       "      <td>289</td>\n",
       "      <td>5</td>\n",
       "      <td>203</td>\n",
       "      <td>200</td>\n",
       "      <td>289</td>\n",
       "    </tr>\n",
       "    <tr>\n",
       "      <th>top</th>\n",
       "      <td>001-0629-70</td>\n",
       "      <td>Employment-Based Green Card</td>\n",
       "      <td>2030-04-27</td>\n",
       "      <td>2023-06-20</td>\n",
       "      <td>85-4596922</td>\n",
       "    </tr>\n",
       "    <tr>\n",
       "      <th>freq</th>\n",
       "      <td>1</td>\n",
       "      <td>75</td>\n",
       "      <td>4</td>\n",
       "      <td>5</td>\n",
       "      <td>1</td>\n",
       "    </tr>\n",
       "  </tbody>\n",
       "</table>\n",
       "</div>"
      ],
      "text/plain": [
       "       GreenCard_ID             GreenCard_status GreenCard_exp_date  \\\n",
       "count           289                          289                289   \n",
       "unique          289                            5                203   \n",
       "top     001-0629-70  Employment-Based Green Card         2030-04-27   \n",
       "freq              1                           75                  4   \n",
       "\n",
       "       GreenCard_issue_date      ID_emp  \n",
       "count                   289         289  \n",
       "unique                  200         289  \n",
       "top              2023-06-20  85-4596922  \n",
       "freq                      5           1  "
      ]
     },
     "execution_count": 16,
     "metadata": {},
     "output_type": "execute_result"
    }
   ],
   "source": [
    "dataframes['df_Green_Card'].describe()"
   ]
  },
  {
   "cell_type": "markdown",
   "id": "11306303",
   "metadata": {},
   "source": [
    "# Data analysis"
   ]
  },
  {
   "cell_type": "markdown",
   "id": "3337e5f5",
   "metadata": {},
   "source": [
    "**1. Change object to date data type of date columns**"
   ]
  },
  {
   "cell_type": "code",
   "execution_count": 26,
   "id": "1693c5d0",
   "metadata": {},
   "outputs": [],
   "source": [
    "dataframes['df_Project']['Project_start_date'] = pd.to_datetime(dataframes['df_Project']['Project_start_date'])\n",
    "dataframes['df_Project']['Project_end_date'] = pd.to_datetime(dataframes['df_Project']['Project_end_date'])"
   ]
  },
  {
   "cell_type": "markdown",
   "id": "ce1c906f",
   "metadata": {},
   "source": [
    "**2. Filter only projects that started between '2022-01-01' and '2023-01-01'. Display the project names and start dates**"
   ]
  },
  {
   "cell_type": "code",
   "execution_count": 29,
   "id": "da363c07",
   "metadata": {},
   "outputs": [],
   "source": [
    "filtered_projects = dataframes['df_Project'][(dataframes['df_Project']['Project_start_date'] >= '2020-01-01') & (dataframes['df_Project']['Project_start_date'] <= '2021-01-01')]"
   ]
  },
  {
   "cell_type": "code",
   "execution_count": 31,
   "id": "a510cb9e",
   "metadata": {},
   "outputs": [
    {
     "data": {
      "text/html": [
       "<div>\n",
       "<style scoped>\n",
       "    .dataframe tbody tr th:only-of-type {\n",
       "        vertical-align: middle;\n",
       "    }\n",
       "\n",
       "    .dataframe tbody tr th {\n",
       "        vertical-align: top;\n",
       "    }\n",
       "\n",
       "    .dataframe thead th {\n",
       "        text-align: right;\n",
       "    }\n",
       "</style>\n",
       "<table border=\"1\" class=\"dataframe\">\n",
       "  <thead>\n",
       "    <tr style=\"text-align: right;\">\n",
       "      <th></th>\n",
       "      <th>Project_ID</th>\n",
       "      <th>Project_start_date</th>\n",
       "      <th>Project_end_date</th>\n",
       "      <th>Project_name</th>\n",
       "      <th>Duration</th>\n",
       "    </tr>\n",
       "  </thead>\n",
       "  <tbody>\n",
       "    <tr>\n",
       "      <th>5</th>\n",
       "      <td>6</td>\n",
       "      <td>2020-09-08</td>\n",
       "      <td>2029-10-25</td>\n",
       "      <td>Myworks</td>\n",
       "      <td>9</td>\n",
       "    </tr>\n",
       "    <tr>\n",
       "      <th>11</th>\n",
       "      <td>12</td>\n",
       "      <td>2020-08-20</td>\n",
       "      <td>2028-03-28</td>\n",
       "      <td>Youopia</td>\n",
       "      <td>7</td>\n",
       "    </tr>\n",
       "    <tr>\n",
       "      <th>13</th>\n",
       "      <td>14</td>\n",
       "      <td>2020-08-25</td>\n",
       "      <td>2029-07-04</td>\n",
       "      <td>Wikido</td>\n",
       "      <td>8</td>\n",
       "    </tr>\n",
       "    <tr>\n",
       "      <th>14</th>\n",
       "      <td>15</td>\n",
       "      <td>2020-03-29</td>\n",
       "      <td>2023-10-07</td>\n",
       "      <td>Photolist</td>\n",
       "      <td>3</td>\n",
       "    </tr>\n",
       "    <tr>\n",
       "      <th>17</th>\n",
       "      <td>18</td>\n",
       "      <td>2020-05-18</td>\n",
       "      <td>2028-10-03</td>\n",
       "      <td>Fivechat</td>\n",
       "      <td>8</td>\n",
       "    </tr>\n",
       "  </tbody>\n",
       "</table>\n",
       "</div>"
      ],
      "text/plain": [
       "    Project_ID Project_start_date Project_end_date Project_name Duration\n",
       "5            6         2020-09-08       2029-10-25      Myworks        9\n",
       "11          12         2020-08-20       2028-03-28      Youopia        7\n",
       "13          14         2020-08-25       2029-07-04       Wikido        8\n",
       "14          15         2020-03-29       2023-10-07    Photolist        3\n",
       "17          18         2020-05-18       2028-10-03     Fivechat        8"
      ]
     },
     "execution_count": 31,
     "metadata": {},
     "output_type": "execute_result"
    }
   ],
   "source": [
    "filtered_projects.head()"
   ]
  },
  {
   "cell_type": "markdown",
   "id": "ee48d13c",
   "metadata": {},
   "source": [
    "**3. Filter employee with more than 2 years of work experience**"
   ]
  },
  {
   "cell_type": "code",
   "execution_count": 33,
   "id": "d15784ac",
   "metadata": {},
   "outputs": [],
   "source": [
    "more_two_years_exp = dataframes['df_Previous_works_experience'][dataframes['df_Previous_works_experience']['Num_years_Exp']>=2]"
   ]
  },
  {
   "cell_type": "code",
   "execution_count": 35,
   "id": "fe98e2f4",
   "metadata": {},
   "outputs": [
    {
     "data": {
      "text/html": [
       "<div>\n",
       "<style scoped>\n",
       "    .dataframe tbody tr th:only-of-type {\n",
       "        vertical-align: middle;\n",
       "    }\n",
       "\n",
       "    .dataframe tbody tr th {\n",
       "        vertical-align: top;\n",
       "    }\n",
       "\n",
       "    .dataframe thead th {\n",
       "        text-align: right;\n",
       "    }\n",
       "</style>\n",
       "<table border=\"1\" class=\"dataframe\">\n",
       "  <thead>\n",
       "    <tr style=\"text-align: right;\">\n",
       "      <th></th>\n",
       "      <th>ID_Emp</th>\n",
       "      <th>Num_years_Exp</th>\n",
       "      <th>Prev_Job_Title</th>\n",
       "      <th>Last_Working_Date</th>\n",
       "      <th>Prev_Company_Loc</th>\n",
       "      <th>Prev_Company_Name</th>\n",
       "    </tr>\n",
       "  </thead>\n",
       "  <tbody>\n",
       "    <tr>\n",
       "      <th>0</th>\n",
       "      <td>00-0264691</td>\n",
       "      <td>6</td>\n",
       "      <td>Office Assistant II</td>\n",
       "      <td>2015-03-11</td>\n",
       "      <td>INDIA</td>\n",
       "      <td>Denesik and Sons</td>\n",
       "    </tr>\n",
       "    <tr>\n",
       "      <th>1</th>\n",
       "      <td>00-1373955</td>\n",
       "      <td>8</td>\n",
       "      <td>Registered Nurse</td>\n",
       "      <td>2016-03-21</td>\n",
       "      <td>JAPAN</td>\n",
       "      <td>Lockman, Stark and Greenholt</td>\n",
       "    </tr>\n",
       "    <tr>\n",
       "      <th>3</th>\n",
       "      <td>00-6351482</td>\n",
       "      <td>10</td>\n",
       "      <td>General Manager</td>\n",
       "      <td>2017-11-24</td>\n",
       "      <td>USA</td>\n",
       "      <td></td>\n",
       "    </tr>\n",
       "    <tr>\n",
       "      <th>4</th>\n",
       "      <td>00-6384418</td>\n",
       "      <td>2</td>\n",
       "      <td>Data Coordinator</td>\n",
       "      <td>2012-05-08</td>\n",
       "      <td>JAPAN</td>\n",
       "      <td>Koelpin LLC</td>\n",
       "    </tr>\n",
       "    <tr>\n",
       "      <th>5</th>\n",
       "      <td>00-8336338</td>\n",
       "      <td>4</td>\n",
       "      <td>Geological Engineer</td>\n",
       "      <td>2017-07-09</td>\n",
       "      <td>SOUTH KOREA</td>\n",
       "      <td>Altenwerth-Hills</td>\n",
       "    </tr>\n",
       "  </tbody>\n",
       "</table>\n",
       "</div>"
      ],
      "text/plain": [
       "       ID_Emp  Num_years_Exp       Prev_Job_Title Last_Working_Date  \\\n",
       "0  00-0264691              6  Office Assistant II        2015-03-11   \n",
       "1  00-1373955              8     Registered Nurse        2016-03-21   \n",
       "3  00-6351482             10      General Manager        2017-11-24   \n",
       "4  00-6384418              2     Data Coordinator        2012-05-08   \n",
       "5  00-8336338              4  Geological Engineer        2017-07-09   \n",
       "\n",
       "  Prev_Company_Loc             Prev_Company_Name  \n",
       "0            INDIA              Denesik and Sons  \n",
       "1            JAPAN  Lockman, Stark and Greenholt  \n",
       "3              USA                                \n",
       "4            JAPAN                   Koelpin LLC  \n",
       "5      SOUTH KOREA              Altenwerth-Hills  "
      ]
     },
     "execution_count": 35,
     "metadata": {},
     "output_type": "execute_result"
    }
   ],
   "source": [
    "more_two_years_exp.head()"
   ]
  },
  {
   "cell_type": "markdown",
   "id": "e7d7efad",
   "metadata": {},
   "source": [
    "# Data visualization"
   ]
  },
  {
   "cell_type": "markdown",
   "id": "d31352e1",
   "metadata": {},
   "source": [
    "**1. pie chart to represent the distribution of employees based on gender in the \"Employee\" table**"
   ]
  },
  {
   "cell_type": "code",
   "execution_count": 38,
   "id": "85a62f3f",
   "metadata": {},
   "outputs": [
    {
     "data": {
      "image/png": "[encoded data removed]",
      "text/plain": [
       "<Figure size 640x480 with 1 Axes>"
      ]
     },
     "metadata": {},
     "output_type": "display_data"
    }
   ],
   "source": [
    "import matplotlib.pyplot as plt\n",
    "gender_distribution = dataframes['df_employee']['Gender'].value_counts()\n",
    "gender_distribution.plot(kind='pie', autopct='%1.1f%%')\n",
    "plt.title('Distribution of Employees by Gender')\n",
    "plt.show()"
   ]
  },
  {
   "cell_type": "markdown",
   "id": "cf0180ae",
   "metadata": {},
   "source": [
    "**2. scatter plot to visualize the relationship between the number of years of experience and the base salary for employees**"
   ]
  },
  {
   "cell_type": "code",
   "execution_count": 43,
   "id": "42c1db90",
   "metadata": {},
   "outputs": [
    {
     "data": {
      "text/html": [
       "<div>\n",
       "<style scoped>\n",
       "    .dataframe tbody tr th:only-of-type {\n",
       "        vertical-align: middle;\n",
       "    }\n",
       "\n",
       "    .dataframe tbody tr th {\n",
       "        vertical-align: top;\n",
       "    }\n",
       "\n",
       "    .dataframe thead th {\n",
       "        text-align: right;\n",
       "    }\n",
       "</style>\n",
       "<table border=\"1\" class=\"dataframe\">\n",
       "  <thead>\n",
       "    <tr style=\"text-align: right;\">\n",
       "      <th></th>\n",
       "      <th>ID_emp</th>\n",
       "      <th>Base_salary</th>\n",
       "    </tr>\n",
       "  </thead>\n",
       "  <tbody>\n",
       "    <tr>\n",
       "      <th>0</th>\n",
       "      <td>00-0264691</td>\n",
       "      <td>84323.46</td>\n",
       "    </tr>\n",
       "    <tr>\n",
       "      <th>1</th>\n",
       "      <td>00-1373955</td>\n",
       "      <td>86030.38</td>\n",
       "    </tr>\n",
       "    <tr>\n",
       "      <th>2</th>\n",
       "      <td>00-1810227</td>\n",
       "      <td>81880.52</td>\n",
       "    </tr>\n",
       "    <tr>\n",
       "      <th>3</th>\n",
       "      <td>00-1818952</td>\n",
       "      <td>81362.57</td>\n",
       "    </tr>\n",
       "    <tr>\n",
       "      <th>4</th>\n",
       "      <td>00-3155074</td>\n",
       "      <td>94734.92</td>\n",
       "    </tr>\n",
       "    <tr>\n",
       "      <th>...</th>\n",
       "      <td>...</td>\n",
       "      <td>...</td>\n",
       "    </tr>\n",
       "    <tr>\n",
       "      <th>995</th>\n",
       "      <td>99-9177149</td>\n",
       "      <td>83021.53</td>\n",
       "    </tr>\n",
       "    <tr>\n",
       "      <th>996</th>\n",
       "      <td>99-9335857</td>\n",
       "      <td>81590.95</td>\n",
       "    </tr>\n",
       "    <tr>\n",
       "      <th>997</th>\n",
       "      <td>99-9396819</td>\n",
       "      <td>91944.31</td>\n",
       "    </tr>\n",
       "    <tr>\n",
       "      <th>998</th>\n",
       "      <td>99-9509695</td>\n",
       "      <td>90373.53</td>\n",
       "    </tr>\n",
       "    <tr>\n",
       "      <th>999</th>\n",
       "      <td>99-9945681</td>\n",
       "      <td>90058.24</td>\n",
       "    </tr>\n",
       "  </tbody>\n",
       "</table>\n",
       "<p>1000 rows × 2 columns</p>\n",
       "</div>"
      ],
      "text/plain": [
       "         ID_emp Base_salary\n",
       "0    00-0264691    84323.46\n",
       "1    00-1373955    86030.38\n",
       "2    00-1810227    81880.52\n",
       "3    00-1818952    81362.57\n",
       "4    00-3155074    94734.92\n",
       "..          ...         ...\n",
       "995  99-9177149    83021.53\n",
       "996  99-9335857    81590.95\n",
       "997  99-9396819    91944.31\n",
       "998  99-9509695    90373.53\n",
       "999  99-9945681    90058.24\n",
       "\n",
       "[1000 rows x 2 columns]"
      ]
     },
     "execution_count": 43,
     "metadata": {},
     "output_type": "execute_result"
    }
   ],
   "source": [
    "dataframes['df_Salary']"
   ]
  },
  {
   "cell_type": "code",
   "execution_count": 47,
   "id": "e33bebe8",
   "metadata": {},
   "outputs": [
    {
     "data": {
      "image/png": "[encoded data removed]",
      "text/plain": [
       "<Figure size 640x480 with 1 Axes>"
      ]
     },
     "metadata": {},
     "output_type": "display_data"
    }
   ],
   "source": [
    "import seaborn as sns\n",
    "dataframes['df_Salary']['Base_salary'] = dataframes['df_Salary']['Base_salary'].astype(int)\n",
    "sns.boxplot(x=dataframes['df_Salary']['Base_salary'])\n",
    "plt.xlabel('Base Salary')\n",
    "plt.title('Box Plot: Distribution of Base Salaries')\n",
    "plt.show()"
   ]
  }
 ],
 "metadata": {
  "kernelspec": {
   "display_name": "Python 3 (ipykernel)",
   "language": "python",
   "name": "python3"
  },
  "language_info": {
   "codemirror_mode": {
    "name": "ipython",
    "version": 3
   },
   "file_extension": ".py",
   "mimetype": "text/x-python",
   "name": "python",
   "nbconvert_exporter": "python",
   "pygments_lexer": "ipython3",
   "version": "3.11.4"
  },
  "toc": {
   "base_numbering": 1,
   "nav_menu": {},
   "number_sections": true,
   "sideBar": true,
   "skip_h1_title": false,
   "title_cell": "Table of Contents",
   "title_sidebar": "Contents",
   "toc_cell": false,
   "toc_position": {},
   "toc_section_display": true,
   "toc_window_display": false
  }
 },
 "nbformat": 4,
 "nbformat_minor": 5
}
